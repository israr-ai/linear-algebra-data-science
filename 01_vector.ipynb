{
 "cells": [
  {
   "cell_type": "code",
   "execution_count": null,
   "id": "13264aeb",
   "metadata": {},
   "outputs": [],
   "source": [
    "#---using--npy array--for---vector---\n",
    "import numpy as np\n",
    "list1 = [1, 2, 3, 4, 5]\n",
    "list2 = [[23],\n",
    "         [45],\n",
    "         [67],\n",
    "         [89]]\n",
    "vector1 = np.array(list1)\n",
    "vector2 = np.array(list2)\n",
    "print(\"horizontal vector :\", vector1)\n",
    "print(\"-------------------------------\")\n",
    "print(\"vertical vector :\", vector2)"
   ]
  },
  {
   "cell_type": "code",
   "execution_count": null,
   "id": "a53e5954",
   "metadata": {},
   "outputs": [],
   "source": [
    "#----Using np.arange()---\n",
    "import numpy as np\n",
    "vector1 = np.arange(1, 10)\n",
    "vector2 = np.arange(1, 20, 2)\n",
    "print(\"horizontal vector :\", vector1)\n",
    "print(\"-------------------------------\")\n",
    "print(\"horizontal vector with step 2 :\", vector2)\n"
   ]
  },
  {
   "cell_type": "code",
   "execution_count": 6,
   "id": "58a9097b",
   "metadata": {},
   "outputs": [
    {
     "name": "stdout",
     "output_type": "stream",
     "text": [
      "horizontal vector : [ 1.    3.25  5.5   7.75 10.  ]\n",
      "-------------------------------\n",
      "horizontal vector with 10 elements : [ 1.   4.8  8.6 12.4 16.2 20. ]\n"
     ]
    }
   ],
   "source": [
    "#------Using np.linspace()------\n",
    "import numpy as np\n",
    "vector1 = np.linspace(1, 10, 5)\n",
    "vector2 = np.linspace(1, 20, 6)\n",
    "print(\"horizontal vector :\", vector1)\n",
    "print(\"-------------------------------\")\n",
    "print(\"horizontal vector with 10 elements :\", vector2)\n"
   ]
  },
  {
   "cell_type": "code",
   "execution_count": 7,
   "id": "fb8ad43b",
   "metadata": {},
   "outputs": [
    {
     "name": "stdout",
     "output_type": "stream",
     "text": [
      "horizontal vector with zeros : [0. 0. 0. 0. 0.]\n",
      "-------------------------------\n",
      "horizontal vector with ones : [1. 1. 1. 1. 1.]\n"
     ]
    }
   ],
   "source": [
    "#----Using np.zeros() and np.ones()---\n",
    "import numpy as np\n",
    "vector1 = np.zeros(5)\n",
    "vector2 = np.ones(5)\n",
    "print(\"horizontal vector with zeros :\", vector1)\n",
    "print(\"-------------------------------\")\n",
    "print(\"horizontal vector with ones :\", vector2)"
   ]
  },
  {
   "cell_type": "markdown",
   "id": "7cf732eb",
   "metadata": {},
   "source": [
    "Performing Operations on Vectors"
   ]
  },
  {
   "cell_type": "code",
   "execution_count": 8,
   "id": "92f2d0b4",
   "metadata": {},
   "outputs": [
    {
     "name": "stdout",
     "output_type": "stream",
     "text": [
      "Addition : [ 7  9 11 13 15]\n",
      "subtraction : [-5 -5 -5 -5 -5]\n",
      "Multiplication : [ 6 14 24 36 50]\n",
      "Division : [0.16666667 0.28571429 0.375      0.44444444 0.5       ]\n",
      "Exponent : [ 1  4  9 16 25]\n"
     ]
    }
   ],
   "source": [
    "#----1. Basic Arithmetic operations on Vectors---\n",
    "import numpy as np\n",
    "list1 = [1, 2, 3, 4, 5]\n",
    "list2 = [6, 7, 8, 9, 10]\n",
    "vector1 = np.array(list1)\n",
    "vector2 = np.array(list2)\n",
    "print(\"Addition :\", vector1 + vector2)\n",
    "print(\"subtraction :\", vector1 - vector2)\n",
    "print(\"Multiplication :\", vector1 * vector2)\n",
    "print(\"Division :\", vector1 / vector2)\n",
    "print(\"Exponent :\", vector1 ** 2)"
   ]
  },
  {
   "cell_type": "code",
   "execution_count": 9,
   "id": "9926fca2",
   "metadata": {},
   "outputs": [
    {
     "name": "stdout",
     "output_type": "stream",
     "text": [
      "Dot Product : 32\n"
     ]
    }
   ],
   "source": [
    "#----Vector Dot Product---\n",
    "import numpy as np\n",
    "list1 = [1, 2, 3]\n",
    "list2 = [4, 5, 6]\n",
    "vector1 = np.array(list1)\n",
    "vector2 = np.array(list2)\n",
    "dot_product = np.dot(vector1, vector2)\n",
    "print(\"Dot Product :\", dot_product)\n",
    "\n"
   ]
  },
  {
   "cell_type": "code",
   "execution_count": 10,
   "id": "fd801434",
   "metadata": {},
   "outputs": [
    {
     "name": "stdout",
     "output_type": "stream",
     "text": [
      "Original Vector : [1 2 3 4 5]\n",
      "After Scalar Multiplication by 5 : [ 5 10 15 20 25]\n"
     ]
    }
   ],
   "source": [
    "#----scalar multiplication on vector---\n",
    "import numpy as np\n",
    "list1 = [1, 2, 3, 4, 5]\n",
    "vector1 = np.array(list1)\n",
    "scalar = 5\n",
    "result = vector1 * scalar\n",
    "print(\"Original Vector :\", vector1)\n",
    "print(\"After Scalar Multiplication by\", scalar, \":\", result)\n"
   ]
  }
 ],
 "metadata": {
  "kernelspec": {
   "display_name": "Python 3",
   "language": "python",
   "name": "python3"
  },
  "language_info": {
   "codemirror_mode": {
    "name": "ipython",
    "version": 3
   },
   "file_extension": ".py",
   "mimetype": "text/x-python",
   "name": "python",
   "nbconvert_exporter": "python",
   "pygments_lexer": "ipython3",
   "version": "3.11.4"
  }
 },
 "nbformat": 4,
 "nbformat_minor": 5
}
