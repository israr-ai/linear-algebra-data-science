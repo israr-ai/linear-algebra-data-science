{
 "cells": [
  {
   "cell_type": "code",
   "execution_count": null,
   "id": "6434cca6",
   "metadata": {},
   "outputs": [
    {
     "name": "stdout",
     "output_type": "stream",
     "text": [
      "Q =\n",
      " [[-0.70710678 -0.70710678]\n",
      " [-0.70710678  0.70710678]]\n",
      "R =\n",
      " [[-1.41421356e+00  3.33066907e-16]\n",
      " [ 0.00000000e+00 -1.41421356e+00]]\n",
      "Check A = Q @ R:\n",
      " True\n"
     ]
    }
   ],
   "source": []
  },
  {
   "cell_type": "code",
   "execution_count": 4,
   "id": "90e583e0",
   "metadata": {},
   "outputs": [
    {
     "name": "stdout",
     "output_type": "stream",
     "text": [
      "Matrix A:\n",
      "[[2. 3. 1.]\n",
      " [4. 5. 2.]\n",
      " [6. 7. 3.]]\n",
      "\n",
      "Lower Triangular Matrix L:\n",
      "[[1. 0. 0.]\n",
      " [2. 1. 0.]\n",
      " [3. 2. 1.]]\n",
      "\n",
      "Upper Triangular Matrix U:\n",
      "[[ 2.  3.  1.]\n",
      " [ 0. -1.  0.]\n",
      " [ 0.  0.  0.]]\n",
      "\n",
      "Check L * U:\n",
      "[[2. 3. 1.]\n",
      " [4. 5. 2.]\n",
      " [6. 7. 3.]]\n"
     ]
    }
   ],
   "source": [
    "#----LU----Decomposition----Matrix--------------------------\n",
    "import numpy as np\n",
    "\n",
    "# Given Matrix A\n",
    "A = np.array([\n",
    "    [2, 3, 1],\n",
    "    [4, 5, 2],\n",
    "    [6, 7, 3]\n",
    "], float)\n",
    "\n",
    "# Size of the matrix\n",
    "n = A.shape[0]\n",
    "\n",
    "# Initialize L and U with zeros\n",
    "L = np.zeros((n, n))\n",
    "U = np.zeros((n, n))\n",
    "\n",
    "# Doolittle's Method\n",
    "for i in range(n):\n",
    "    # Upper Triangular Matrix (U)\n",
    "    for k in range(i, n):\n",
    "        sum = 0\n",
    "        for j in range(i):\n",
    "            sum += L[i][j] * U[j][k]\n",
    "        U[i][k] = A[i][k] - sum\n",
    "\n",
    "    # Lower Triangular Matrix (L)\n",
    "    for k in range(i, n):\n",
    "        if i == k:\n",
    "            L[i][i] = 1  # Diagonal element = 1\n",
    "        else:\n",
    "            sum = 0\n",
    "            for j in range(i):\n",
    "                sum += L[k][j] * U[j][i]\n",
    "            L[k][i] = (A[k][i] - sum) / U[i][i]\n",
    "\n",
    "# Print Results\n",
    "print(\"Matrix A:\")\n",
    "print(A)\n",
    "print(\"\\nLower Triangular Matrix L:\")\n",
    "print(L)\n",
    "print(\"\\nUpper Triangular Matrix U:\")\n",
    "print(U)\n",
    "\n",
    "# Verify: L * U = A\n",
    "print(\"\\nCheck L * U:\")\n",
    "print(np.dot(L, U))\n"
   ]
  },
  {
   "cell_type": "code",
   "execution_count": 5,
   "id": "51fa4c3e",
   "metadata": {},
   "outputs": [
    {
     "name": "stdout",
     "output_type": "stream",
     "text": [
      "Q =\n",
      " [[-0.70710678 -0.70710678]\n",
      " [-0.70710678  0.70710678]]\n",
      "R =\n",
      " [[-1.41421356e+00  3.33066907e-16]\n",
      " [ 0.00000000e+00 -1.41421356e+00]]\n",
      "Check A = Q @ R:\n",
      " True\n"
     ]
    }
   ],
   "source": [
    "#---QR---decomposition----------------\n",
    "import numpy as np\n",
    "\n",
    "A = np.array([[1, 1],\n",
    "              [1, -1]])\n",
    "\n",
    "Q, R = np.linalg.qr(A)\n",
    "\n",
    "print(\"Q =\\n\", Q)\n",
    "print(\"R =\\n\", R)\n",
    "print(\"Check A = Q @ R:\\n\", np.allclose(A, Q @ R))\n",
    "\n"
   ]
  },
  {
   "cell_type": "code",
   "execution_count": 6,
   "id": "2c31450e",
   "metadata": {},
   "outputs": [
    {
     "name": "stdout",
     "output_type": "stream",
     "text": [
      "2 0 0\n",
      "6 1 0\n",
      "-8 5 3\n",
      "\n",
      "2 6 -8\n",
      "0 1 5\n",
      "0 0 3\n"
     ]
    }
   ],
   "source": [
    "# Python program to find decompose of a\n",
    "# matrix using Cholesky Decomposition\n",
    "\n",
    "def choleskyDecomposition(matrix):\n",
    "    n = len(matrix)\n",
    "\n",
    "    # to store the lower triangular matrix\n",
    "    lower = [[0] * n for _ in range(n)]\n",
    "\n",
    "    # Decomposing a matrix into Lower Triangular\n",
    "    for i in range(n):\n",
    "        for j in range(i + 1):\n",
    "            sum = 0\n",
    "\n",
    "            # summation for diagonals\n",
    "            if j == i:\n",
    "                for k in range(j):\n",
    "                    sum += lower[j][k]**2\n",
    "                lower[j][j] = int((matrix[j][j] - sum)**0.5)\n",
    "            else:\n",
    "\n",
    "                # Evaluating L(i, j) using L(j, j)\n",
    "                for k in range(j):\n",
    "                    sum += lower[i][k] * lower[j][k]\n",
    "                lower[i][j] = (matrix[i][j] - sum) // lower[j][j]\n",
    "\n",
    "    # Displaying Lower Triangular Matrix\n",
    "    for i in range(n):\n",
    "        print(\" \".join(map(str, lower[i])))\n",
    "\n",
    "    print()\n",
    "\n",
    "    # Displaying Transpose of Lower Triangular Matrix\n",
    "    for i in range(n):\n",
    "        print(\" \".join(map(str, [lower[j][i] for j in range(n)])))\n",
    "\n",
    "if __name__ == \"__main__\":\n",
    "    matrix = [\n",
    "        [4, 12, -16],\n",
    "        [12, 37, -43],\n",
    "        [-16, -43, 98]\n",
    "    ]\n",
    "    choleskyDecomposition(matrix)"
   ]
  },
  {
   "cell_type": "code",
   "execution_count": null,
   "id": "2c742473",
   "metadata": {},
   "outputs": [
    {
     "name": "stdout",
     "output_type": "stream",
     "text": [
      "Original Matrix V:\n",
      " [[5. 3. 0.]\n",
      " [4. 0. 0.]\n",
      " [1. 1. 0.]\n",
      " [0. 2. 5.]]\n",
      "\n",
      "Matrix W (users x features):\n",
      " [[0.21403525 1.20199197]\n",
      " [0.         0.78543444]\n",
      " [0.12495814 0.2671365 ]\n",
      " [3.25365407 0.        ]]\n",
      "\n",
      "Matrix H (features x items):\n",
      " [[0.         0.63598988 1.52786846]\n",
      " [4.41565694 1.72909944 0.        ]]\n",
      "\n",
      "Reconstructed V (W @ H):\n",
      " [[5.30758419 2.2144879  0.32701771]\n",
      " [3.46820903 1.35809425 0.        ]\n",
      " [1.17958316 0.54137769 0.1909196 ]\n",
      " [0.         2.06929106 4.97115542]]\n"
     ]
    }
   ],
   "source": [
    "#--------Non-Negative Matrix Factorization (NMF)?------------------\n",
    "\n",
    "import numpy as np\n",
    "from sklearn.decomposition import NMF\n",
    "\n",
    "# Original non-negative matrix\n",
    "V = np.array([\n",
    "    [5, 3, 0],\n",
    "    [4, 0, 0],\n",
    "    [1, 1, 0],\n",
    "    [0, 2, 5]\n",
    "], dtype=float)\n",
    "\n",
    "# Number of latent features\n",
    "r = 2\n",
    "\n",
    "# Create NMF model\n",
    "model = NMF(n_components=r, init='random', random_state=0)\n",
    "\n",
    "# Fit the model and get W and H\n",
    "W = model.fit_transform(V)\n",
    "H = model.components_\n",
    "\n",
    "print(\"Original Matrix V:\\n\", V)\n",
    "print(\"\\nMatrix W (users x features):\\n\", W)\n",
    "print(\"\\nMatrix H (features x items):\\n\", H)\n",
    "\n",
    "# Approximate V from W and H\n",
    "V_approx = np.dot(W, H)\n",
    "print(\"\\nReconstructed V (W @ H):\\n\", V_approx)\n"
   ]
  },
  {
   "cell_type": "code",
   "execution_count": null,
   "id": "67f66a05",
   "metadata": {},
   "outputs": [],
   "source": []
  }
 ],
 "metadata": {
  "kernelspec": {
   "display_name": "Python 3",
   "language": "python",
   "name": "python3"
  },
  "language_info": {
   "codemirror_mode": {
    "name": "ipython",
    "version": 3
   },
   "file_extension": ".py",
   "mimetype": "text/x-python",
   "name": "python",
   "nbconvert_exporter": "python",
   "pygments_lexer": "ipython3",
   "version": "3.11.4"
  }
 },
 "nbformat": 4,
 "nbformat_minor": 5
}
