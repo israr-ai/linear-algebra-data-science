{
 "cells": [
  {
   "cell_type": "code",
   "execution_count": 1,
   "id": "9cfc39a2",
   "metadata": {},
   "outputs": [
    {
     "name": "stdout",
     "output_type": "stream",
     "text": [
      "horizontal vector : [1 2 3 4 5]\n",
      "-------------------------------\n",
      "vertical vector : [[23]\n",
      " [45]\n",
      " [67]\n",
      " [89]]\n"
     ]
    }
   ],
   "source": [
    "#---using--npy array--for---vector---\n",
    "import numpy as np\n",
    "list1 = [1, 2, 3, 4, 5]\n",
    "list2 = [[23],\n",
    "         [45],\n",
    "         [67],\n",
    "         [89]]\n",
    "vector1 = np.array(list1)\n",
    "vector2 = np.array(list2)\n",
    "print(\"horizontal vector :\", vector1)\n",
    "print(\"-------------------------------\")\n",
    "print(\"vertical vector :\", vector2)"
   ]
  }
 ],
 "metadata": {
  "kernelspec": {
   "display_name": "Python 3",
   "language": "python",
   "name": "python3"
  },
  "language_info": {
   "codemirror_mode": {
    "name": "ipython",
    "version": 3
   },
   "file_extension": ".py",
   "mimetype": "text/x-python",
   "name": "python",
   "nbconvert_exporter": "python",
   "pygments_lexer": "ipython3",
   "version": "3.11.4"
  }
 },
 "nbformat": 4,
 "nbformat_minor": 5
}
